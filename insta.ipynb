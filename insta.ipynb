{
 "cells": [
  {
   "cell_type": "code",
   "execution_count": 80,
   "metadata": {},
   "outputs": [
    {
     "name": "stderr",
     "output_type": "stream",
     "text": [
      "C:\\Users\\admin\\AppData\\Local\\Temp\\ipykernel_38812\\3946941392.py:9: DeprecationWarning: executable_path has been deprecated, please pass in a Service object\n",
      "  dr = webdriver.Chrome(\"C:/windows/chromedriver.exe\") #웹드라이버로 크롬 웹 켜기\n"
     ]
    }
   ],
   "source": [
    "#작업에 필요한 라이브러리 \n",
    "from selenium import webdriver \n",
    "from selenium.webdriver import ActionChains\n",
    "from selenium.webdriver.common.keys import Keys\n",
    "import time\n",
    "from selenium.webdriver.common.by import By\n",
    "\n",
    "#01. 웹 열기\n",
    "dr = webdriver.Chrome(\"C:/windows/chromedriver.exe\") #웹드라이버로 크롬 웹 켜기\n",
    "dr.implicitly_wait(3)\n",
    "dr.set_window_size(414, 800) \t#브라우저 크기 414*800으로 고정\n",
    "dr.get('https://www.instagram.com/') #인스타그램 웹 켜기\n",
    "time.sleep(2) \t#2초 대기"
   ]
  },
  {
   "cell_type": "code",
   "execution_count": 81,
   "metadata": {},
   "outputs": [],
   "source": [
    "# 02. 로그인\n",
    "#경로 지정\n",
    "\n",
    "id_box = dr.find_element(By.CSS_SELECTOR,\"#loginForm > div > div:nth-child(1) > div > label > input\")   #아이디 입력창\n",
    "password_box = dr.find_element(By.CSS_SELECTOR,\"#loginForm > div > div:nth-child(2) > div > label > input\")     #비밀번호 입력창\n",
    "login_button = dr.find_element(By.CSS_SELECTOR,'#loginForm > div > div:nth-child(3) > button')      #로그인 버튼\n",
    "\n",
    "#동작 제어\n",
    "act = ActionChains(dr)      #동작 명령어 지정\n",
    "act.send_keys_to_element(id_box, 'iambowonkang').send_keys_to_element(password_box, 'bo5nicd').click(login_button).perform()     #아이디 입력, 비밀 번호 입력, 로그인 버튼 클릭 수행\n",
    "time.sleep(2)"
   ]
  },
  {
   "cell_type": "code",
   "execution_count": 67,
   "metadata": {},
   "outputs": [],
   "source": [
    "# 필요 패키지 호출\n",
    "from selenium import webdriver\n",
    "from bs4 import BeautifulSoup\n",
    "import time\n",
    "import re\n",
    "import time"
   ]
  },
  {
   "cell_type": "code",
   "execution_count": 68,
   "metadata": {},
   "outputs": [],
   "source": [
    "# 함수 정의: 검색어 조건에 따른 url 생성\n",
    "def insta_searching(word):\n",
    "    url = \"https://www.instagram.com/explore/tags/\" + str(word)\n",
    "    return url"
   ]
  },
  {
   "cell_type": "code",
   "execution_count": 69,
   "metadata": {},
   "outputs": [],
   "source": [
    "# 함수 정의: 열린 페이지에서 첫 번째 게시물 클릭 + sleep 메소드 통하여 시차 두기\n",
    "def select_first(driver):\n",
    "    first = driver.find_elements(By.CSS_SELECTOR,\"div._aagw\")[0]\n",
    "    first.click()\n",
    "    time.sleep(3)"
   ]
  },
  {
   "cell_type": "code",
   "execution_count": 70,
   "metadata": {},
   "outputs": [],
   "source": [
    "# 함수 정의: 본문 내용, 작성일자, 좋아요 수, 위치 정보, 해시태그 가져오기\n",
    "import re\n",
    "from bs4 import BeautifulSoup\n",
    "\n",
    "def get_content(driver):\n",
    "    html = driver.page_source\n",
    "    soup = BeautifulSoup(html, 'lxml')\n",
    "    # 본문 내용\n",
    "    try:\n",
    "        content = soup.select('div._a9zs')[0].text\n",
    "    except:\n",
    "        content = ''\n",
    "    # 해시태그\n",
    "    tags = re.findall(r'#[^\\s#,\\\\]+', content)\n",
    "    \n",
    "    # 작성일자\n",
    "    date = soup.select('time._aaqe')[0]['datetime'][:10]\n",
    "    \n",
    "    # 좋아요\n",
    "    try:\n",
    "        like = soup.select('div._aacl._aaco._aacw._aacx._aada._aade')[0].findAll('span')[-1].text\n",
    "    except:\n",
    "        like = 0\n",
    "    # 위치\n",
    "    try:\n",
    "        place = soup.select('div._aaqm')[0].text\n",
    "    except:\n",
    "        place = ''\n",
    "\n",
    "    data = [content, date, like, place, tags]\n",
    "    return data"
   ]
  },
  {
   "cell_type": "code",
   "execution_count": 71,
   "metadata": {},
   "outputs": [],
   "source": [
    "# 함수 정의: 첫 번째 게시물 클릭 후 다음 게시물 클릭\n",
    "def move_next(driver):\n",
    "    right = driver.find_element(By.CSS_SELECTOR,\"div._aaqg._aaqh\") # 2022/01/11 수정\n",
    "    right.click()\n",
    "    time.sleep(3)"
   ]
  },
  {
   "cell_type": "code",
   "execution_count": 82,
   "metadata": {},
   "outputs": [],
   "source": [
    "# 게시물을 조회할 검색 키워드 입력 요청\n",
    "word = input(\"검색어를 입력하세요 : \")\n",
    "word = str(word)\n",
    "url = insta_searching(word)"
   ]
  },
  {
   "cell_type": "code",
   "execution_count": 83,
   "metadata": {},
   "outputs": [
    {
     "name": "stdout",
     "output_type": "stream",
     "text": [
      "[['(광고) @Stay_hwaga #busantravel #busanhotel기장에 새로 오픈한 오션뷰 펜션, 스테이화가를 소개합니다!마치 화가의 집에 하루 머물며휴식을 즐길 수 있는 컨셉을 가진기장 new 펜션 스테이 화가 🎨특색 있는 컨셉에 맞게기장 바다를 바라보며 반신욕을 즐기고,우리만의 추억이 담긴 그림까지 그릴 수 있다고 하는 데요아이보리 빛의 인테리어와 단란한 소품들로 꾸며져독특하지만 감성적이고 수더분한 분위기로공간 자체만으로 힐링이 되는 스테이랍니다:)✨부산에서의 하루를기장 스테이화가에서 만끽해보시는 건 어떠세요?📍기장군 기장읍 연화리 326-2 스테이화가📍객실 이용 전고객 조식바구니 제공📍나만의 명화 채색도구📍폴라로이드 포토 프린터#busanbnb #gijang', '2023-01-12', 0, '', ['#busantravel', '#busanhotel기장에', '#busanbnb', '#gijang']], ['그런 찰나의 기억속에잠시 모든걸 내려놓고쉴 수 있다면.....🌃', '2023-01-11', '815', '부산광역시', []]]\n"
     ]
    }
   ],
   "source": [
    "# 검색 결과 페이지 열기\n",
    "dr.get(url)\n",
    "time.sleep(10) # 코드 수행 환경에 따라 페이지가 로드되는 데 시간이 더 걸릴 수 있어 8초로 변경(2022/01/11)\n",
    "\n",
    "# 첫 번째 게시물 클릭\n",
    "select_first(dr)\n",
    "\n",
    "# 본격적으로 데이터 수집 시작\n",
    "results = []\n",
    "## 수집할 게시물의 수\n",
    "target = 10\n",
    "for i in range(target):\n",
    "\n",
    "    try:\n",
    "        data = get_content(dr)\n",
    "        results.append(data)\n",
    "        move_next(dr)\n",
    "    except:\n",
    "        time.sleep(2)\n",
    "        move_next(dr)\n",
    "    time.sleep(5)\n",
    "\n",
    "print(results[:2])"
   ]
  },
  {
   "cell_type": "code",
   "execution_count": 84,
   "metadata": {},
   "outputs": [],
   "source": [
    "# 결과를 데이터프레임으로 저장\n",
    "import pandas as pd\n",
    "from datetime import datetime\n",
    "\n",
    "date = datetime.today().strftime('%Y-%m-%d')\n",
    "\n",
    "results_df = pd.DataFrame(results)\n",
    "results_df.columns = ['content','date','like','place','tags']\n",
    "results_df.to_excel(date + '_about '+word+' insta crawling.xlsx')"
   ]
  },
  {
   "cell_type": "code",
   "execution_count": null,
   "metadata": {},
   "outputs": [],
   "source": []
  },
  {
   "cell_type": "code",
   "execution_count": null,
   "metadata": {},
   "outputs": [],
   "source": []
  },
  {
   "cell_type": "code",
   "execution_count": null,
   "metadata": {},
   "outputs": [],
   "source": [
    "# #03. 프로필 들어가기\n",
    "# #프로필 사진 클릭하기\n",
    "# my_photo = dr.find_element(By.CSS_SELECTOR,'#react-root > section > nav > div._8MQSO.Cx7Bp > div > div > div.ctQZg.KtFt3 > div > div:nth-child(6) > div.EforU > span > img')\n",
    "# my_photo.click()\n",
    "# time.sleep(2)\n",
    "\n",
    "# #프로필 버튼 클릭하기\n",
    "# profile = dr.find_element(By.CSS_SELECTOR,'section > nav > div._8MQSO.Cx7Bp > div > div > div.ctQZg > div > div:nth-child(6) > div.poA5q > div.uo5MA._2ciX.tWgj8.XWrBI > div._01UL2 > a:nth-child(1) > div')\n",
    "# profile.click()\n",
    "# time.sleep(2)"
   ]
  }
 ],
 "metadata": {
  "kernelspec": {
   "display_name": "base",
   "language": "python",
   "name": "python3"
  },
  "language_info": {
   "codemirror_mode": {
    "name": "ipython",
    "version": 3
   },
   "file_extension": ".py",
   "mimetype": "text/x-python",
   "name": "python",
   "nbconvert_exporter": "python",
   "pygments_lexer": "ipython3",
   "version": "3.9.13"
  },
  "orig_nbformat": 4,
  "vscode": {
   "interpreter": {
    "hash": "e4cce46d6be9934fbd27f9ca0432556941ea5bdf741d4f4d64c6cd7f8dfa8fba"
   }
  }
 },
 "nbformat": 4,
 "nbformat_minor": 2
}
